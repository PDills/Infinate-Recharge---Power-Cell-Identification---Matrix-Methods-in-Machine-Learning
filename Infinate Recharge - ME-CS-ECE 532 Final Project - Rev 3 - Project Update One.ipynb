{
 "cells": [
  {
   "cell_type": "markdown",
   "metadata": {},
   "source": [
    "## Final Project - Infinate Recharge - Power Cell Recognition"
   ]
  },
  {
   "cell_type": "markdown",
   "metadata": {},
   "source": [
    "The following two functions are written to train a binary linear classifier. The first function \"Apre\" preprocesses the images and organizes them to train the classifier. The first attempt uses two image preprocessing steps. The image is blurred and then converted to a grayscale image using the open computer vision library. This results in a matrix of values between 0 and 255 which is rearranged into a matrix with each row representing an image. The second function \"extractLabels\" checks to see if there is data in the 'objects' section of the labels if no data exists is places a -1 in the label vector \"y\". "
   ]
  },
  {
   "cell_type": "code",
   "execution_count": 29,
   "metadata": {
    "scrolled": false
   },
   "outputs": [],
   "source": [
    "# Importing Images to Python if they are jpgs\n",
    "import numpy as np\n",
    "from scipy.io import loadmat\n",
    "import matplotlib.pyplot as plt \n",
    "from mpl_toolkits.mplot3d import Axes3D\n",
    "import matplotlib.image as mpimg\n",
    "import cv2   # Open Computer vision\n",
    "import glob\n",
    "import json  # JavaScript Object Notation encoder and decoder\n",
    "\n",
    "# This Function takes and returns a 2 dimensional Pre-processed matrix of features and instances for classifying a linear clasifier\n",
    "def Apre(images):\n",
    "    n = len(images) # The number of images in the file\n",
    "    \n",
    "    # The dimensions of the images\n",
    "    row = 480 \n",
    "    col = 640\n",
    "    \n",
    "    # The length of each new row\n",
    "    length = 480*640\n",
    "        \n",
    "    # creating a new A matrix for pre processed data\n",
    "    A = np.zeros((n,length))\n",
    "    \n",
    "    for i in range(n):\n",
    "        A1 = np.array(images.pop()) # pops an image out of the list\n",
    "        # print(type(A1))\n",
    "        \n",
    "        ###################################################################\n",
    "        # Preprocessing Data goes here\n",
    "                \n",
    "        # Blurring the Image\n",
    "        # Ab = cv2.medianBlur(A1,15)\n",
    "        \n",
    "        # Converting to Grayscale\n",
    "        Ag = cv2.cvtColor(A1, cv2.COLOR_RGB2GRAY)\n",
    "        # print(type(Ag))\n",
    "        \n",
    "        ###################################################################\n",
    "        \n",
    "        \n",
    "        # Reshaping the image into an array and storing into a matrix\n",
    "        A[i,:] = np.reshape(Ag,(1,length))\n",
    "        # print(len(A[0]))\n",
    "    \n",
    "    return A # Returns an A matrix of pre processed pixles from each image in the specified file path"
   ]
  },
  {
   "cell_type": "code",
   "execution_count": 30,
   "metadata": {},
   "outputs": [],
   "source": [
    "# This function extracts binary classification lables from the data lable files in the specified path\n",
    "def extractLabels(lables):\n",
    "    # labels is a list with all the json lables for the annotations in the path\n",
    "    n = len(lables)\n",
    "    \n",
    "    y = np.zeros((n,1))\n",
    "    for i in range(n):\n",
    "        text = labels.pop()\n",
    "        stringData = text.read().replace(\"\\n\", \" \")\n",
    "\n",
    "        data = json.loads(stringData)\n",
    "        if data['objects'] == []:\n",
    "            y[i] = -1 # no power cells are present\n",
    "        else:\n",
    "            y[i] = 1 # power cells are in the image\n",
    "\n",
    "    return [y] # Returns a vecotor of binary classification labels (ie 1 for PowerCells and -1 for No PowerCells )"
   ]
  },
  {
   "cell_type": "markdown",
   "metadata": {},
   "source": [
    "## Start of Binary Classifier Training of JPG (Images)"
   ]
  },
  {
   "cell_type": "code",
   "execution_count": 92,
   "metadata": {},
   "outputs": [],
   "source": [
    "# Reads all the images from the folder specified in the path and stros them in a list data structure\n",
    "images = [plt.imread(file) for file in glob.glob(\"C:\\\\Users\\\\PDills\\\\Documents\\\\GradSchoolCourses\\\\CS-ECE-ME 532\\\\Final Project\\\\Images Tagged as Valid\\\\Filming Day 1 Images\\\\img\\\\*.jpg\")]\n",
    "\n",
    "A1 = np.array(Apre(images)) # calling the function to organize that data in the specified folder\n",
    "\n",
    "# Reads out all the lable data and stores it in a data structure\n",
    "labels = [open(file) for file in glob.glob(\"C:\\\\Users\\\\PDills\\\\Documents\\\\GradSchoolCourses\\\\CS-ECE-ME 532\\\\Final Project\\\\Images Tagged as Valid\\\\Filming Day 1 Images\\\\ann\\\\*.json\")]\n",
    "\n",
    "y1 = np.array(extractLabels(labels)) # calling the function to form binary labels\n",
    "y1 = np.reshape(y1,(len(y1[0]),1))\n",
    "# print(y1)"
   ]
  },
  {
   "cell_type": "code",
   "execution_count": 93,
   "metadata": {},
   "outputs": [],
   "source": [
    "# Reads all the images from the folder specified in the path and stros them in a list data structure\n",
    "images = [plt.imread(file) for file in glob.glob(\"C:\\\\Users\\\\PDills\\\\Documents\\\\GradSchoolCourses\\\\CS-ECE-ME 532\\\\Final Project\\\\Images Tagged as Valid\\\\Filming Day 2 Video\\\\img\\\\*.png\")]\n",
    "\n",
    "A2 = np.array(Apre(images)) # calling the function to organize that data in the specified folder\n",
    "\n",
    "# Reads out all the lable data and stores it in a data structure\n",
    "labels = [open(file) for file in glob.glob(\"C:\\\\Users\\\\PDills\\\\Documents\\\\GradSchoolCourses\\\\CS-ECE-ME 532\\\\Final Project\\\\Images Tagged as Valid\\\\Filming Day 2 Video\\\\ann\\\\*.json\")]\n",
    "\n",
    "y2 = np.array(extractLabels(labels)) # calling the function to form binary labels\n",
    "y2 = np.reshape(y2,(len(y2[0]),1))\n",
    "# print(y2)"
   ]
  },
  {
   "cell_type": "code",
   "execution_count": 94,
   "metadata": {},
   "outputs": [],
   "source": [
    "# Creating a larger array from the two data files read in\n",
    "A = np.vstack([A1,A2])\n",
    "y = np.vstack([y1,y2])"
   ]
  },
  {
   "cell_type": "markdown",
   "metadata": {},
   "source": [
    "Using least a least squares solution imediately is not a tractable optimization problem becasue one row of the the \"A\" matrix representing a single image has ~ 30 thousand entries. Insted we attempt to reduce the dimension of the optimization problem using a truncated singular value decomposition. "
   ]
  },
  {
   "cell_type": "code",
   "execution_count": 109,
   "metadata": {},
   "outputs": [
    {
     "data": {
      "image/png": "[encoded data removed]",
      "text/plain": [
       "<Figure size 432x288 with 1 Axes>"
      ]
     },
     "metadata": {
      "needs_background": "light"
     },
     "output_type": "display_data"
    }
   ],
   "source": [
    "# Complete and uncomment line below\n",
    "U,s,VT = np.linalg.svd(A,full_matrices=False)\n",
    "\n",
    "fig = plt.figure()\n",
    "ax = fig.add_subplot(111)\n",
    "ax.plot(np.log10(s))\n",
    "ax.set_xlabel('Singular value index $i$', fontsize=16)\n",
    "ax.set_ylabel('$\\log_{10}(\\sigma_i)$', fontsize=16)\n",
    "ax.set_title('Singular Values', fontsize=18)\n",
    "plt.grid()\n",
    "plt.show()"
   ]
  },
  {
   "cell_type": "code",
   "execution_count": 110,
   "metadata": {},
   "outputs": [],
   "source": [
    "# Selecting data for feature reduction using a Truncated Singular Value approximation\n",
    "r = 80 # the number of singular values to retain\n",
    "\n",
    "Ur = U[:,0:r]\n",
    "Er = np.diag(s[0:r])\n",
    "Vr = np.transpose(VT[0:r,:])\n"
   ]
  },
  {
   "cell_type": "markdown",
   "metadata": {},
   "source": [
    "This first attempt at a binary classifier simply uses the definition of the psudo inverse in terms of the SVD to reduce the number of features and more efficiently compute the psudoinvese."
   ]
  },
  {
   "cell_type": "code",
   "execution_count": 103,
   "metadata": {},
   "outputs": [
    {
     "name": "stdout",
     "output_type": "stream",
     "text": [
      "307200\n"
     ]
    }
   ],
   "source": [
    "# SVD definition of the Psudo Inverse\n",
    "w = Vr@np.linalg.inv(Er)@Ur.T@y\n",
    "print(len(w))"
   ]
  },
  {
   "cell_type": "markdown",
   "metadata": {},
   "source": [
    "The code block below looks at the classification error for the training data. to help decide how many singular values to keep."
   ]
  },
  {
   "cell_type": "code",
   "execution_count": 104,
   "metadata": {},
   "outputs": [
    {
     "name": "stdout",
     "output_type": "stream",
     "text": [
      "Binary classification error rate on training data 6.570841889117044 %\n"
     ]
    }
   ],
   "source": [
    "yOut = np.zeros((len(y)) )\n",
    "eC = 0 # The Error Counter\n",
    "for i in range(len(A)):\n",
    "    yOut[i] = np.sign(A[i,:]@w)\n",
    "    \n",
    "    # Counting Classification Errors from the Calculated Weights\n",
    "    if yOut[i] != y[i]:\n",
    "        eC = eC + 1\n",
    "print('Binary classification error rate on training data', (eC/len(y))*100,'%')"
   ]
  },
  {
   "cell_type": "code",
   "execution_count": 105,
   "metadata": {},
   "outputs": [
    {
     "name": "stdout",
     "output_type": "stream",
     "text": [
      "[[-1. -1.  1.  1.  1. -1. -1.  1.  1.  1.  1.  1.  1.  1.  1.  1.  1.  1.\n",
      "   1.  1.  1.  1.  1.  1.  1.  1.  1.  1.  1.  1.  1.  1.  1.  1.  1.  1.\n",
      "   1.  1.  1.  1.  1. -1.  1. -1.  1.  1.  1.  1. -1.  1.  1.  1.  1.  1.\n",
      "  -1. -1. -1.  1. -1. -1. -1.  1.  1.  1. -1. -1. -1. -1. -1. -1.  1.  1.\n",
      "   1.  1.  1. -1. -1. -1. -1. -1. -1. -1. -1. -1. -1. -1. -1. -1. -1. -1.\n",
      "  -1. -1. -1. -1. -1. -1. -1. -1. -1. -1. -1. -1. -1. -1. -1. -1. -1. -1.\n",
      "  -1. -1. -1. -1. -1. -1. -1. -1. -1. -1. -1. -1. -1. -1. -1. -1. -1. -1.\n",
      "  -1. -1. -1. -1. -1. -1. -1. -1. -1. -1. -1. -1. -1. -1. -1. -1. -1. -1.\n",
      "  -1. -1. -1. -1. -1. -1. -1. -1. -1. -1. -1. -1. -1. -1. -1. -1. -1. -1.\n",
      "  -1. -1. -1. -1. -1. -1. -1. -1. -1. -1. -1. -1. -1. -1. -1. -1. -1. -1.\n",
      "  -1. -1. -1. -1. -1. -1. -1. -1. -1. -1. -1. -1. -1. -1. -1. -1. -1. -1.\n",
      "  -1. -1. -1. -1. -1. -1. -1. -1. -1. -1. -1. -1. -1. -1. -1. -1. -1. -1.\n",
      "  -1. -1. -1. -1. -1. -1. -1. -1. -1. -1. -1. -1. -1. -1. -1. -1. -1. -1.\n",
      "  -1. -1. -1. -1. -1. -1. -1. -1. -1. -1. -1. -1. -1. -1. -1. -1. -1. -1.\n",
      "  -1. -1. -1. -1. -1. -1. -1. -1. -1. -1. -1. -1. -1. -1. -1. -1. -1. -1.\n",
      "  -1. -1. -1. -1. -1. -1. -1. -1. -1. -1. -1. -1. -1. -1. -1. -1. -1. -1.\n",
      "  -1. -1. -1. -1. -1. -1. -1. -1. -1. -1. -1. -1. -1. -1. -1. -1. -1. -1.\n",
      "  -1. -1. -1. -1. -1. -1. -1. -1. -1. -1. -1. -1. -1. -1. -1. -1. -1. -1.\n",
      "  -1. -1. -1. -1. -1. -1. -1. -1. -1. -1. -1. -1. -1. -1. -1. -1. -1. -1.\n",
      "  -1. -1. -1. -1. -1. -1. -1. -1. -1. -1. -1. -1. -1. -1. -1. -1. -1. -1.\n",
      "  -1. -1. -1. -1. -1. -1. -1. -1. -1. -1. -1. -1. -1. -1. -1. -1. -1. -1.\n",
      "  -1. -1. -1. -1. -1. -1. -1. -1. -1. -1. -1. -1. -1. -1. -1. -1. -1. -1.\n",
      "  -1. -1. -1. -1. -1. -1. -1. -1. -1. -1. -1. -1. -1. -1. -1. -1. -1. -1.\n",
      "  -1. -1. -1. -1. -1. -1. -1. -1. -1. -1. -1. -1. -1. -1. -1. -1. -1. -1.\n",
      "  -1. -1. -1. -1. -1. -1. -1. -1. -1. -1. -1. -1. -1. -1.  1.  1.  1.  1.\n",
      "   1.  1.  1.  1.  1.  1.  1. -1. -1. -1. -1. -1. -1. -1. -1. -1. -1. -1.\n",
      "  -1. -1. -1. -1.  1.  1.  1.  1.  1.  1.  1.  1.  1.  1.  1.  1.  1.  1.\n",
      "   1.]]\n",
      "[-1. -1.  1.  1.  1. -1. -1.  1.  1.  1.  1.  1.  1.  1.  1.  1.  1.  1.\n",
      "  1.  1.  1.  1.  1.  1.  1.  1.  1.  1.  1.  1.  1.  1.  1.  1.  1.  1.\n",
      "  1.  1.  1.  1.  1. -1.  1. -1.  1.  1.  1.  1. -1.  1.  1.  1.  1.  1.\n",
      " -1. -1. -1.  1. -1. -1. -1.  1.  1.  1. -1. -1. -1. -1. -1. -1. -1. -1.\n",
      " -1. -1. -1. -1. -1. -1. -1. -1. -1. -1. -1. -1. -1. -1. -1. -1. -1. -1.\n",
      " -1.  1. -1. -1. -1. -1. -1. -1. -1. -1. -1. -1. -1. -1. -1. -1. -1. -1.\n",
      " -1. -1. -1. -1. -1. -1. -1. -1. -1. -1. -1. -1. -1. -1. -1.  1.  1.  1.\n",
      " -1. -1. -1. -1. -1. -1. -1. -1. -1. -1. -1. -1. -1. -1. -1. -1. -1. -1.\n",
      " -1. -1. -1. -1. -1. -1. -1. -1. -1. -1. -1. -1. -1. -1. -1. -1. -1. -1.\n",
      " -1. -1. -1. -1. -1. -1. -1. -1. -1. -1. -1. -1. -1. -1. -1. -1. -1. -1.\n",
      " -1. -1. -1. -1. -1. -1. -1. -1. -1. -1. -1. -1. -1. -1. -1. -1. -1. -1.\n",
      " -1. -1. -1. -1. -1. -1. -1. -1. -1. -1. -1. -1. -1. -1. -1. -1. -1. -1.\n",
      " -1. -1. -1. -1. -1. -1. -1. -1. -1. -1. -1. -1. -1. -1. -1. -1. -1. -1.\n",
      " -1. -1. -1. -1. -1. -1. -1.  1. -1. -1.  1. -1. -1. -1. -1. -1. -1. -1.\n",
      " -1. -1. -1. -1. -1. -1. -1. -1. -1. -1. -1. -1. -1. -1. -1. -1. -1. -1.\n",
      " -1. -1. -1. -1. -1. -1. -1. -1. -1. -1. -1. -1. -1. -1. -1. -1. -1. -1.\n",
      " -1. -1. -1. -1. -1. -1. -1. -1. -1. -1. -1. -1. -1. -1. -1. -1. -1. -1.\n",
      " -1. -1. -1. -1. -1. -1. -1. -1. -1. -1. -1. -1. -1.  1.  1. -1. -1. -1.\n",
      " -1. -1. -1. -1. -1. -1. -1. -1. -1. -1. -1. -1. -1. -1. -1. -1. -1. -1.\n",
      " -1. -1. -1. -1. -1. -1. -1. -1. -1. -1. -1. -1. -1. -1. -1. -1. -1. -1.\n",
      " -1. -1. -1. -1. -1. -1. -1.  1.  1.  1.  1.  1.  1.  1. -1. -1. -1. -1.\n",
      " -1. -1. -1. -1. -1. -1. -1. -1. -1. -1. -1. -1. -1. -1. -1. -1. -1. -1.\n",
      " -1. -1. -1. -1. -1. -1. -1. -1. -1. -1. -1. -1. -1. -1. -1. -1. -1. -1.\n",
      " -1. -1. -1. -1. -1. -1. -1. -1. -1.  1. -1. -1. -1. -1. -1. -1. -1. -1.\n",
      " -1. -1. -1. -1. -1. -1. -1. -1. -1. -1. -1. -1. -1. -1.  1. -1.  1.  1.\n",
      "  1.  1.  1.  1.  1.  1.  1. -1. -1. -1. -1. -1. -1. -1. -1. -1. -1. -1.\n",
      " -1. -1. -1. -1.  1.  1.  1.  1.  1. -1. -1. -1. -1. -1. -1. -1. -1. -1.\n",
      " -1.]\n"
     ]
    }
   ],
   "source": [
    "print(y.T)\n",
    "print(yOut.T)"
   ]
  },
  {
   "cell_type": "markdown",
   "metadata": {},
   "source": [
    "## Classification Error Rate on Holdout data (Day 1 Video)"
   ]
  },
  {
   "cell_type": "code",
   "execution_count": 106,
   "metadata": {},
   "outputs": [],
   "source": [
    "# Reads all the images from the folder specified in the path and stros them in a list data structure\n",
    "images = [plt.imread(file) for file in glob.glob(\"C:\\\\Users\\\\PDills\\\\Documents\\\\GradSchoolCourses\\\\CS-ECE-ME 532\\\\Final Project\\\\Images Tagged as Valid\\\\Filming Day 1 Video\\\\img\\\\*.png\")]\n",
    "\n",
    "Ah = Apre(images) # calling the function to organize that data in the specified folder\n",
    "\n",
    "# Reads out all the label data and stores it in a data structure\n",
    "labels = [open(file) for file in glob.glob(\"C:\\\\Users\\\\PDills\\\\Documents\\\\GradSchoolCourses\\\\CS-ECE-ME 532\\\\Final Project\\\\Images Tagged as Valid\\\\Filming Day 1 Video\\\\ann\\\\*.json\")]\n",
    "\n",
    "yh = np.array(extractLabels(labels)) # calling the function to form binary labels\n",
    "yh = np.reshape(yh,(len(yh[0]),1))\n",
    "# print(y)"
   ]
  },
  {
   "cell_type": "code",
   "execution_count": 108,
   "metadata": {},
   "outputs": [
    {
     "name": "stdout",
     "output_type": "stream",
     "text": [
      "Binary classification error rate on holdout data 7.5 %\n"
     ]
    }
   ],
   "source": [
    "yhOut = np.zeros((len(yh)) )\n",
    "eC = 0 # The Error Counter\n",
    "for i in range(len(Ah)):\n",
    "    yhOut[i] = np.sign(Ah[i,:]@w)\n",
    "    \n",
    "    # Counting Classification Errors from the Calculated Weights\n",
    "    if yhOut[i] != yh[i]:\n",
    "        eC = eC + 1\n",
    "print('Binary classification error rate on holdout data', (eC/len(yh))*100,'%')"
   ]
  },
  {
   "cell_type": "code",
   "execution_count": 90,
   "metadata": {},
   "outputs": [
    {
     "name": "stdout",
     "output_type": "stream",
     "text": [
      "[[-1. -1. -1. -1. -1. -1. -1. -1. -1. -1. -1. -1. -1. -1. -1. -1. -1. -1.\n",
      "  -1. -1. -1. -1. -1. -1. -1. -1. -1. -1. -1. -1. -1. -1. -1. -1. -1. -1.\n",
      "  -1. -1. -1. -1. -1. -1. -1. -1. -1. -1. -1. -1. -1. -1. -1. -1. -1. -1.\n",
      "  -1. -1. -1. -1.  1.  1.  1.  1.  1.  1.  1.  1.  1.  1.  1.  1.  1.  1.\n",
      "   1.  1.  1.  1.  1.  1.  1.  1.]]\n",
      "[-1. -1. -1. -1. -1. -1. -1. -1. -1. -1. -1. -1. -1. -1. -1. -1. -1. -1.\n",
      " -1. -1. -1. -1. -1. -1. -1. -1. -1. -1. -1. -1. -1. -1. -1. -1. -1. -1.\n",
      " -1. -1. -1. -1. -1. -1. -1. -1. -1. -1. -1. -1. -1. -1. -1. -1. -1. -1.\n",
      " -1. -1. -1. -1.  1.  1.  1.  1.  1.  1.  1.  1.  1.  1.  1.  1.  1.  1.\n",
      "  1.  1.  1.  1.  1.  1.  1.  1.]\n"
     ]
    }
   ],
   "source": [
    "print(yh.T)\n",
    "print(yhOut.T)"
   ]
  }
 ],
 "metadata": {
  "kernelspec": {
   "display_name": "Python 3",
   "language": "python",
   "name": "python3"
  },
  "language_info": {
   "codemirror_mode": {
    "name": "ipython",
    "version": 3
   },
   "file_extension": ".py",
   "mimetype": "text/x-python",
   "name": "python",
   "nbconvert_exporter": "python",
   "pygments_lexer": "ipython3",
   "version": "3.7.6"
  }
 },
 "nbformat": 4,
 "nbformat_minor": 4
}
